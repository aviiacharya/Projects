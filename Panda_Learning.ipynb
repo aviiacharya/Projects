{
 "cells": [
  {
   "cell_type": "code",
   "execution_count": 2,
   "id": "19cbea72",
   "metadata": {},
   "outputs": [],
   "source": [
    "import pandas as pd"
   ]
  },
  {
   "cell_type": "markdown",
   "id": "4fba955c",
   "metadata": {},
   "source": [
    "#### Creating a series with index"
   ]
  },
  {
   "cell_type": "code",
   "execution_count": 3,
   "id": "d93a8f91",
   "metadata": {},
   "outputs": [],
   "source": [
    "series  = pd.Series([1,11,22,33,44,55,66]) "
   ]
  },
  {
   "cell_type": "code",
   "execution_count": 8,
   "id": "3de9d218",
   "metadata": {},
   "outputs": [
    {
     "name": "stdout",
     "output_type": "stream",
     "text": [
      "0     1\n",
      "1    11\n",
      "2    22\n",
      "3    33\n",
      "4    44\n",
      "5    55\n",
      "6    66\n",
      "dtype: int64\n"
     ]
    }
   ],
   "source": [
    "print(series)"
   ]
  },
  {
   "cell_type": "code",
   "execution_count": 13,
   "id": "4adad0c1",
   "metadata": {},
   "outputs": [],
   "source": [
    "series  = pd.Series([1,11,22,33,44,55,66] , index = ['a','b','c','d','e','f','g'])"
   ]
  },
  {
   "cell_type": "code",
   "execution_count": 14,
   "id": "23272be5",
   "metadata": {},
   "outputs": [
    {
     "name": "stdout",
     "output_type": "stream",
     "text": [
      "a     1\n",
      "b    11\n",
      "c    22\n",
      "d    33\n",
      "e    44\n",
      "f    55\n",
      "g    66\n",
      "dtype: int64\n"
     ]
    }
   ],
   "source": [
    "print(series)"
   ]
  },
  {
   "cell_type": "markdown",
   "id": "71dfa9aa",
   "metadata": {},
   "source": [
    "#### Dataframe"
   ]
  },
  {
   "cell_type": "code",
   "execution_count": 19,
   "id": "865969cb",
   "metadata": {},
   "outputs": [
    {
     "name": "stdout",
     "output_type": "stream",
     "text": [
      "   Name  Age  City\n",
      "0  abhi   28  bglr\n",
      "1   pkt   33  bglr\n",
      "2   liz   28   ngh\n",
      "3   roz   23  bmpr\n"
     ]
    }
   ],
   "source": [
    "dataframe = {\n",
    "    'Name' : ['abhi','pkt','liz','roz'],\n",
    "    'Age' : [28,33,28,23],\n",
    "    'City': ['bglr','bglr','ngh','bmpr']\n",
    "}\n",
    "\n",
    "df = pd.DataFrame(dataframe)\n",
    "print(df)"
   ]
  },
  {
   "cell_type": "markdown",
   "id": "d53dcd36",
   "metadata": {},
   "source": [
    "#### From Numpy Array"
   ]
  },
  {
   "cell_type": "code",
   "execution_count": 31,
   "id": "542af47c",
   "metadata": {},
   "outputs": [],
   "source": [
    "import numpy as np"
   ]
  },
  {
   "cell_type": "code",
   "execution_count": 32,
   "id": "2893c75b",
   "metadata": {},
   "outputs": [],
   "source": [
    "array = np.array([[1,2,3,],[4,5,6],[7,8,9]])"
   ]
  },
  {
   "cell_type": "markdown",
   "id": "0a078608",
   "metadata": {},
   "source": [
    "#### Creating data frame from array"
   ]
  },
  {
   "cell_type": "code",
   "execution_count": 34,
   "id": "0c0d210a",
   "metadata": {},
   "outputs": [
    {
     "name": "stdout",
     "output_type": "stream",
     "text": [
      "   A  B  C\n",
      "0  1  2  3\n",
      "1  4  5  6\n",
      "2  7  8  9\n"
     ]
    }
   ],
   "source": [
    "dataframe = pd.DataFrame(array, columns=['A', 'B', 'C'])\n",
    "print(dataframe)"
   ]
  },
  {
   "cell_type": "code",
   "execution_count": 35,
   "id": "cfc48b1f",
   "metadata": {},
   "outputs": [],
   "source": [
    "###If reading from a file, df = pd.read('file.csv')"
   ]
  },
  {
   "cell_type": "markdown",
   "id": "ac372f89",
   "metadata": {},
   "source": [
    "#### Maths"
   ]
  },
  {
   "cell_type": "code",
   "execution_count": 36,
   "id": "bd690b85",
   "metadata": {},
   "outputs": [
    {
     "name": "stdout",
     "output_type": "stream",
     "text": [
      "A    1\n",
      "B    2\n",
      "C    3\n",
      "dtype: int64\n"
     ]
    }
   ],
   "source": [
    "print(dataframe.min())  ## min value from each column"
   ]
  },
  {
   "cell_type": "code",
   "execution_count": 37,
   "id": "2d70d34c",
   "metadata": {},
   "outputs": [
    {
     "name": "stdout",
     "output_type": "stream",
     "text": [
      "A    7\n",
      "B    8\n",
      "C    9\n",
      "dtype: int64\n"
     ]
    }
   ],
   "source": [
    "print(dataframe.max())  ## max value from each column"
   ]
  },
  {
   "cell_type": "code",
   "execution_count": 38,
   "id": "41b76893",
   "metadata": {},
   "outputs": [
    {
     "name": "stdout",
     "output_type": "stream",
     "text": [
      "A    4.0\n",
      "B    5.0\n",
      "C    6.0\n",
      "dtype: float64\n"
     ]
    }
   ],
   "source": [
    "print(dataframe.mean())  ## mean value of each column"
   ]
  },
  {
   "cell_type": "code",
   "execution_count": 40,
   "id": "877822e5",
   "metadata": {},
   "outputs": [
    {
     "name": "stdout",
     "output_type": "stream",
     "text": [
      "A    12\n",
      "B    15\n",
      "C    18\n",
      "dtype: int64\n"
     ]
    }
   ],
   "source": [
    "print(dataframe.sum())  ## sum of all column"
   ]
  },
  {
   "cell_type": "code",
   "execution_count": 42,
   "id": "cd745969",
   "metadata": {},
   "outputs": [
    {
     "name": "stdout",
     "output_type": "stream",
     "text": [
      "A    3\n",
      "B    3\n",
      "C    3\n",
      "dtype: int64\n"
     ]
    }
   ],
   "source": [
    "print(dataframe.count())  ## couts the number of elements in each column"
   ]
  },
  {
   "cell_type": "code",
   "execution_count": 43,
   "id": "5af18dd3",
   "metadata": {},
   "outputs": [
    {
     "name": "stdout",
     "output_type": "stream",
     "text": [
      "   Name  Age  City\n",
      "0  abhi   28  bglr\n",
      "1   pkt   33  bglr\n",
      "2   liz   28   ngh\n",
      "3   roz   23  bmpr\n"
     ]
    }
   ],
   "source": [
    "dataframe = {\n",
    "    'Name' : ['abhi','pkt','liz','roz'],\n",
    "    'Age' : [28,33,28,23],\n",
    "    'City': ['bglr','bglr','ngh','bmpr']\n",
    "}\n",
    "\n",
    "df = pd.DataFrame(dataframe)\n",
    "print(df)"
   ]
  },
  {
   "cell_type": "code",
   "execution_count": 46,
   "id": "8f75b863",
   "metadata": {},
   "outputs": [
    {
     "name": "stdout",
     "output_type": "stream",
     "text": [
      "0    28\n",
      "1    33\n",
      "2    28\n",
      "3    23\n",
      "Name: Age, dtype: int64\n"
     ]
    }
   ],
   "source": [
    "ages = df['Age']\n",
    "print(ages)"
   ]
  },
  {
   "cell_type": "code",
   "execution_count": 57,
   "id": "f4b5c519",
   "metadata": {},
   "outputs": [
    {
     "name": "stdout",
     "output_type": "stream",
     "text": [
      "   Name  City  Age\n",
      "0  abhi  bglr   28\n",
      "1   pkt  bglr   33\n",
      "2   liz   ngh   28\n",
      "3   roz  bmpr   23\n"
     ]
    }
   ],
   "source": [
    "subset = df[['Name', 'City', 'Age']]\n",
    "print(subset)"
   ]
  },
  {
   "cell_type": "markdown",
   "id": "59a87e4a",
   "metadata": {},
   "source": [
    "#### Accessing the data"
   ]
  },
  {
   "cell_type": "code",
   "execution_count": 70,
   "id": "0484733a",
   "metadata": {},
   "outputs": [
    {
     "name": "stdout",
     "output_type": "stream",
     "text": [
      "   Name  Age      City\n",
      "0  abhi   28  New York\n",
      "1   pkt   33     Paris\n",
      "2   liz   28    Berlin\n",
      "3   roz   22    London\n"
     ]
    }
   ],
   "source": [
    "dataframe = [\n",
    "    {'Name': 'abhi', 'Age': 28, 'City': 'New York'},\n",
    "    {'Name': 'pkt', 'Age': 33, 'City': 'Paris'},\n",
    "    {'Name': 'liz', 'Age': 28, 'City': 'Berlin'},\n",
    "    {'Name': 'roz', 'Age': 22, 'City': 'London'}\n",
    "]\n",
    "df = pd.DataFrame(dataframe)\n",
    "print(df)"
   ]
  },
  {
   "cell_type": "code",
   "execution_count": 66,
   "id": "47804dca",
   "metadata": {},
   "outputs": [],
   "source": [
    "abhi_data = df[df['Name'] == 'abhi']"
   ]
  },
  {
   "cell_type": "code",
   "execution_count": 67,
   "id": "54e2e31f",
   "metadata": {},
   "outputs": [
    {
     "name": "stdout",
     "output_type": "stream",
     "text": [
      "   Name  Age      City\n",
      "0  abhi   28  New York\n"
     ]
    }
   ],
   "source": [
    "print(abhi_data)"
   ]
  },
  {
   "cell_type": "code",
   "execution_count": 72,
   "id": "12195bbc",
   "metadata": {},
   "outputs": [
    {
     "name": "stdout",
     "output_type": "stream",
     "text": [
      "  Name  Age   City\n",
      "1  pkt   33  Paris\n"
     ]
    }
   ],
   "source": [
    "pkt_data = df[df['Age'] == 33]\n",
    "print(pkt_data)"
   ]
  },
  {
   "cell_type": "code",
   "execution_count": 74,
   "id": "fc259a26",
   "metadata": {},
   "outputs": [
    {
     "data": {
      "text/plain": [
       "<bound method NDFrame.head of    Name  Age      City\n",
       "0  abhi   28  New York\n",
       "1   pkt   33     Paris\n",
       "2   liz   28    Berlin\n",
       "3   roz   22    London>"
      ]
     },
     "execution_count": 74,
     "metadata": {},
     "output_type": "execute_result"
    }
   ],
   "source": [
    "df.head  #first 5 rows"
   ]
  },
  {
   "cell_type": "code",
   "execution_count": 76,
   "id": "7c658491",
   "metadata": {},
   "outputs": [
    {
     "data": {
      "text/plain": [
       "<bound method NDFrame.tail of    Name  Age      City\n",
       "0  abhi   28  New York\n",
       "1   pkt   33     Paris\n",
       "2   liz   28    Berlin\n",
       "3   roz   22    London>"
      ]
     },
     "execution_count": 76,
     "metadata": {},
     "output_type": "execute_result"
    }
   ],
   "source": [
    "df.tail #last 5 rows"
   ]
  },
  {
   "cell_type": "code",
   "execution_count": 77,
   "id": "11bb36a7",
   "metadata": {},
   "outputs": [
    {
     "data": {
      "text/plain": [
       "<bound method DataFrame.info of    Name  Age      City\n",
       "0  abhi   28  New York\n",
       "1   pkt   33     Paris\n",
       "2   liz   28    Berlin\n",
       "3   roz   22    London>"
      ]
     },
     "execution_count": 77,
     "metadata": {},
     "output_type": "execute_result"
    }
   ],
   "source": [
    "df.info  #basic info of the frame"
   ]
  },
  {
   "cell_type": "code",
   "execution_count": 78,
   "id": "c3a8fa2e",
   "metadata": {},
   "outputs": [
    {
     "data": {
      "text/plain": [
       "Index(['Name', 'Age', 'City'], dtype='object')"
      ]
     },
     "execution_count": 78,
     "metadata": {},
     "output_type": "execute_result"
    }
   ],
   "source": [
    "df.columns"
   ]
  },
  {
   "cell_type": "code",
   "execution_count": 81,
   "id": "3b9ef7dd",
   "metadata": {},
   "outputs": [
    {
     "data": {
      "text/plain": [
       "(4, 3)"
      ]
     },
     "execution_count": 81,
     "metadata": {},
     "output_type": "execute_result"
    }
   ],
   "source": [
    "df.shape  #shape of the data frame"
   ]
  },
  {
   "cell_type": "code",
   "execution_count": 85,
   "id": "596fd9b2",
   "metadata": {},
   "outputs": [
    {
     "name": "stdout",
     "output_type": "stream",
     "text": [
      "0    28\n",
      "1    33\n",
      "2    28\n",
      "3    23\n",
      "Name: Age, dtype: int64\n"
     ]
    }
   ],
   "source": [
    "agess = df[['Age', 'Name']]\n",
    "print(ages)"
   ]
  },
  {
   "cell_type": "markdown",
   "id": "565d4bc3",
   "metadata": {},
   "source": [
    "#### Selecting Rows by Label (.loc)"
   ]
  },
  {
   "cell_type": "code",
   "execution_count": 93,
   "id": "896856cd",
   "metadata": {},
   "outputs": [
    {
     "name": "stdout",
     "output_type": "stream",
     "text": [
      "Age       28\n",
      "City    bglr\n",
      "Name: abhi, dtype: object\n"
     ]
    }
   ],
   "source": [
    "dataframe = {\n",
    "    'Name' : ['abhi','pkt','liz','roz'],\n",
    "    'Age' : [28,33,28,23],\n",
    "    'City': ['bglr','bglr','ngh','bmpr']\n",
    "}\n",
    "\n",
    "df = pd.DataFrame(dataframe)\n",
    "#Set a coulmn as index\n",
    "df = df.set_index('Name')\n",
    "abhi_data = df.loc['abhi']\n",
    "print(abhi_data)"
   ]
  },
  {
   "cell_type": "code",
   "execution_count": 94,
   "id": "c4f137d3",
   "metadata": {},
   "outputs": [
    {
     "name": "stdout",
     "output_type": "stream",
     "text": [
      "      Age  City\n",
      "Name           \n",
      "abhi   28  bglr\n",
      "pkt    33  bglr\n"
     ]
    }
   ],
   "source": [
    "people_data = df.loc[['abhi','pkt']]\n",
    "print(people_data)"
   ]
  },
  {
   "cell_type": "code",
   "execution_count": 95,
   "id": "ad758051",
   "metadata": {},
   "outputs": [
    {
     "name": "stdout",
     "output_type": "stream",
     "text": [
      "Age       28\n",
      "City    bglr\n",
      "Name: abhi, dtype: object\n"
     ]
    }
   ],
   "source": [
    "#select row by integer position or index\n",
    "first_row = df.iloc[0]\n",
    "print(first_row)"
   ]
  },
  {
   "cell_type": "code",
   "execution_count": 105,
   "id": "ecae84a2",
   "metadata": {
    "scrolled": true
   },
   "outputs": [
    {
     "name": "stdout",
     "output_type": "stream",
     "text": [
      "      Age  City\n",
      "Name           \n",
      "pkt    33  bglr\n",
      "liz    28   ngh\n",
      "roz    23  bmpr\n"
     ]
    }
   ],
   "source": [
    "second_two_rows = df.iloc[1:4]    #Getting the row value( from 1, not including 2 index)\n",
    "print(second_two_rows)"
   ]
  },
  {
   "cell_type": "code",
   "execution_count": 107,
   "id": "5f9abdd5",
   "metadata": {},
   "outputs": [
    {
     "name": "stdout",
     "output_type": "stream",
     "text": [
      "      City\n",
      "Name      \n",
      "pkt   bglr\n"
     ]
    }
   ],
   "source": [
    "people_subset = df.iloc[1:2, 1:2]   #for specific values as per requirements \n",
    "print(people_subset)"
   ]
  },
  {
   "cell_type": "markdown",
   "id": "5fe765d1",
   "metadata": {},
   "source": [
    "#### Conditioning"
   ]
  },
  {
   "cell_type": "code",
   "execution_count": 108,
   "id": "3a3a3e15",
   "metadata": {},
   "outputs": [
    {
     "name": "stdout",
     "output_type": "stream",
     "text": [
      "      Age  City\n",
      "Name           \n",
      "pkt    33  bglr\n"
     ]
    }
   ],
   "source": [
    "older_than_30 = df[df['Age'] > 30]\n",
    "print(older_than_30)"
   ]
  },
  {
   "cell_type": "code",
   "execution_count": 110,
   "id": "bf4bd5bb",
   "metadata": {},
   "outputs": [
    {
     "name": "stdout",
     "output_type": "stream",
     "text": [
      "      Age  City\n",
      "Name           \n",
      "pkt    33  bglr\n"
     ]
    }
   ],
   "source": [
    "filtered = df[(df['Age'] > 30) & (df['City'] == 'bglr')]\n",
    "print(filtered)"
   ]
  },
  {
   "cell_type": "code",
   "execution_count": null,
   "id": "b59dbc04",
   "metadata": {},
   "outputs": [],
   "source": [
    "#checking missing data\n",
    "#df.isnull() for missing value and df.isna().sum()\n",
    "# Count missing values in each column\n",
    "df.isna().sum()"
   ]
  },
  {
   "cell_type": "markdown",
   "id": "5af26759",
   "metadata": {},
   "source": [
    "### Below is a project showcasing some of the important pandas methods organized by category."
   ]
  },
  {
   "cell_type": "code",
   "execution_count": 111,
   "id": "cf9d8b1f",
   "metadata": {},
   "outputs": [],
   "source": [
    "# Create a sample dataset of sales data\n",
    "np.random.seed(42)\n",
    "\n",
    "# Create date range for the past 2 years\n",
    "dates = pd.date_range(start='2023-01-01', end='2024-12-31', freq='D')  #data of days"
   ]
  },
  {
   "cell_type": "code",
   "execution_count": 172,
   "id": "1ab68180",
   "metadata": {},
   "outputs": [],
   "source": [
    "# Generate data\n",
    "data = {\n",
    "    'date': dates,\n",
    "    'product': np.random.choice(['Laptop', 'Phone', 'Tablet', 'Monitor', 'Keyboard'], size=len(dates)),\n",
    "    'region': np.random.choice(['North', 'South', 'East', 'West', 'Central'], size=len(dates)),\n",
    "    'sales': np.random.randint(1, 50, size=len(dates)),\n",
    "    'units': np.random.randint(1, 10, size=len(dates)),\n",
    "    'returns': np.random.randint(0, 5, size=len(dates)),\n",
    "    'discount': np.random.choice([0, 0.05, 0.1, 0.15, 0.2], size=len(dates)),\n",
    "    'customer_satisfaction': np.random.randint(1, 6, size=len(dates))\n",
    "}"
   ]
  },
  {
   "cell_type": "code",
   "execution_count": 118,
   "id": "475e56bd",
   "metadata": {},
   "outputs": [
    {
     "name": "stdout",
     "output_type": "stream",
     "text": [
      "\u001b[1mBasic operations\u001b[0m \n",
      "\n",
      "First five rows:\n",
      "          date   product   region  sales  units  returns  discount  \\\n",
      "0 2023-01-01   Monitor  Central     27      1        3      0.15   \n",
      "1 2023-01-02  Keyboard     West     38      3        0      0.00   \n",
      "2 2023-01-03    Tablet    South      7      2        4      0.20   \n",
      "3 2023-01-04  Keyboard    North      5      7        4      0.05   \n",
      "4 2023-01-05  Keyboard    South     43      4        0      0.15   \n",
      "\n",
      "   customer_satisfaction  \n",
      "0                      5  \n",
      "1                      4  \n",
      "2                      2  \n",
      "3                      1  \n",
      "4                      3  \n",
      "          date   product   region  sales  units  returns  discount  \\\n",
      "726 2024-12-27   Monitor  Central      2      5        0       0.0   \n",
      "727 2024-12-28     Phone    North     23      5        2       0.2   \n",
      "728 2024-12-29    Tablet  Central     44      4        3       0.2   \n",
      "729 2024-12-30    Laptop    South      2      5        1       0.2   \n",
      "730 2024-12-31  Keyboard     West     38      3        4       0.1   \n",
      "\n",
      "     customer_satisfaction  \n",
      "726                      2  \n",
      "727                      5  \n",
      "728                      4  \n",
      "729                      5  \n",
      "730                      3  \n",
      "<class 'pandas.core.frame.DataFrame'>\n",
      "RangeIndex: 731 entries, 0 to 730\n",
      "Data columns (total 8 columns):\n",
      " #   Column                 Non-Null Count  Dtype         \n",
      "---  ------                 --------------  -----         \n",
      " 0   date                   731 non-null    datetime64[ns]\n",
      " 1   product                731 non-null    object        \n",
      " 2   region                 731 non-null    object        \n",
      " 3   sales                  731 non-null    int64         \n",
      " 4   units                  731 non-null    int64         \n",
      " 5   returns                731 non-null    int64         \n",
      " 6   discount               731 non-null    float64       \n",
      " 7   customer_satisfaction  731 non-null    int64         \n",
      "dtypes: datetime64[ns](1), float64(1), int64(4), object(2)\n",
      "memory usage: 45.8+ KB\n",
      "None\n",
      "            sales       units     returns    discount  customer_satisfaction\n",
      "count  731.000000  731.000000  731.000000  731.000000             731.000000\n",
      "mean    24.878249    5.049248    2.031464    0.098085               3.071135\n",
      "std     14.200047    2.521205    1.432632    0.071695               1.405615\n",
      "min      1.000000    1.000000    0.000000    0.000000               1.000000\n",
      "25%     12.000000    3.000000    1.000000    0.050000               2.000000\n",
      "50%     25.000000    5.000000    2.000000    0.100000               3.000000\n",
      "75%     37.000000    7.000000    3.000000    0.150000               4.000000\n",
      "max     49.000000    9.000000    4.000000    0.200000               5.000000\n"
     ]
    }
   ],
   "source": [
    "df = pd.DataFrame(data)\n",
    "print(\"\\033[1mBasic operations\\033[0m \\n\")    # Makes it bolder\n",
    "print(\"First five rows:\\n \", df.head())\n",
    "#print(\"\\033[1mBasic operations\\033[0m \\n\")\n",
    "print(df.tail())\n",
    "print(df.info())\n",
    "print(df.describe())\n"
   ]
  },
  {
   "cell_type": "code",
   "execution_count": 119,
   "id": "33185a5c",
   "metadata": {},
   "outputs": [
    {
     "name": "stdout",
     "output_type": "stream",
     "text": [
      "\u001b[1mIndexing and Selection\u001b[0m \n",
      "\n"
     ]
    }
   ],
   "source": [
    "print(\"\\033[1mIndexing and Selection\\033[0m \\n\") "
   ]
  },
  {
   "cell_type": "code",
   "execution_count": 126,
   "id": "3bfecfd0",
   "metadata": {},
   "outputs": [
    {
     "name": "stdout",
     "output_type": "stream",
     "text": [
      "             product  sales\n",
      "date                       \n",
      "2023-01-01   Monitor     27\n",
      "2023-01-02  Keyboard     38\n",
      "2023-01-03    Tablet      7\n",
      "2023-01-04  Keyboard      5\n",
      "2023-01-05  Keyboard     43\n",
      "2023-01-06     Phone     45\n"
     ]
    }
   ],
   "source": [
    "df.set_index('date',inplace=True)   #sets the date column as index\n",
    "product_sales = df[['product', 'sales']]\n",
    "print(product_sales[0:6])    #first 6 sales\n"
   ]
  },
  {
   "cell_type": "code",
   "execution_count": 129,
   "id": "0e5cebb1",
   "metadata": {},
   "outputs": [
    {
     "name": "stdout",
     "output_type": "stream",
     "text": [
      "First week information: \n",
      "              product   region  sales  units  returns  discount  \\\n",
      "date                                                             \n",
      "2023-01-01   Monitor  Central     27      1        3      0.15   \n",
      "2023-01-02  Keyboard     West     38      3        0      0.00   \n",
      "2023-01-03    Tablet    South      7      2        4      0.20   \n",
      "2023-01-04  Keyboard    North      5      7        4      0.05   \n",
      "2023-01-05  Keyboard    South     43      4        0      0.15   \n",
      "2023-01-06     Phone    North     45      8        4      0.20   \n",
      "2023-01-07    Tablet     West     31      6        0      0.15   \n",
      "\n",
      "            customer_satisfaction  \n",
      "date                               \n",
      "2023-01-01                      5  \n",
      "2023-01-02                      4  \n",
      "2023-01-03                      2  \n",
      "2023-01-04                      1  \n",
      "2023-01-05                      3  \n",
      "2023-01-06                      5  \n",
      "2023-01-07                      5  \n",
      "December Data: \n",
      "              product   region  sales  units  returns  discount  \\\n",
      "date                                                             \n",
      "2024-12-04   Monitor     West      9      1        0       0.0   \n",
      "2024-12-05    Laptop  Central      8      9        1       0.0   \n",
      "2024-12-06   Monitor  Central     33      1        2       0.1   \n",
      "2024-12-07  Keyboard    North      6      8        1       0.1   \n",
      "2024-12-08    Tablet    South     41      4        1       0.2   \n",
      "2024-12-09    Laptop  Central     39      9        3       0.0   \n",
      "2024-12-10    Laptop  Central      4      5        3       0.2   \n",
      "\n",
      "            customer_satisfaction  \n",
      "date                               \n",
      "2024-12-04                      5  \n",
      "2024-12-05                      2  \n",
      "2024-12-06                      5  \n",
      "2024-12-07                      4  \n",
      "2024-12-08                      4  \n",
      "2024-12-09                      5  \n",
      "2024-12-10                      5  \n"
     ]
    }
   ],
   "source": [
    "first_week_info = df.iloc[0:7]  #Integer-location based indexing\n",
    "december_data = df.loc['2024-12-01':'2024-12-31']   #Label-based indexing like names\n",
    "\n",
    "print(\"First week information: \\n\", first_week_info)\n",
    "print(\"December Data: \\n\", december_data[3:10])\n"
   ]
  },
  {
   "cell_type": "code",
   "execution_count": 130,
   "id": "1993ee67",
   "metadata": {},
   "outputs": [
    {
     "name": "stdout",
     "output_type": "stream",
     "text": [
      "Number of high sales days: 137\n"
     ]
    }
   ],
   "source": [
    "high_sales = df[df['sales'] > 40]\n",
    "print(f\"Number of high sales days: {len(high_sales)}\")\n"
   ]
  },
  {
   "cell_type": "code",
   "execution_count": 131,
   "id": "7d3f10dc",
   "metadata": {},
   "outputs": [
    {
     "name": "stdout",
     "output_type": "stream",
     "text": [
      "\u001b[1mData Cleaning and Manipulation\u001b[0m \n",
      "\n"
     ]
    }
   ],
   "source": [
    "print(\"\\033[1mData Cleaning and Manipulation\\033[0m \\n\") "
   ]
  },
  {
   "cell_type": "code",
   "execution_count": 133,
   "id": "d55d1f3c",
   "metadata": {},
   "outputs": [
    {
     "name": "stdout",
     "output_type": "stream",
     "text": [
      "Missing Values: product                  0\n",
      "region                   0\n",
      "sales                    0\n",
      "units                    0\n",
      "returns                  0\n",
      "discount                 0\n",
      "customer_satisfaction    0\n",
      "dtype: int64\n"
     ]
    }
   ],
   "source": [
    "print(f\"Missing Values: {df.isna().sum()}\")    #isna() gives the null values and sums up all the numbers\n"
   ]
  },
  {
   "cell_type": "code",
   "execution_count": 138,
   "id": "746f38d8",
   "metadata": {},
   "outputs": [
    {
     "name": "stdout",
     "output_type": "stream",
     "text": [
      "Revenue: 82641.9\n"
     ]
    }
   ],
   "source": [
    "df['revenue'] = df['sales'] * df['units'] * (1 - df['discount'])   #revenue\n",
    "df['customer_satisfaction'] = df['customer_satisfaction'].replace({1: 'Very Poor', 2: 'Poor',3: 'Average', 4: 'Good', 5: 'Excellent'}) \n",
    "df.drop_duplicates()\n",
    "total_revenue = df['revenue'].sum()\n",
    "\n",
    "print(f\"Revenue: {total_revenue}\")\n"
   ]
  },
  {
   "cell_type": "code",
   "execution_count": 139,
   "id": "4bb9c70d",
   "metadata": {},
   "outputs": [
    {
     "name": "stdout",
     "output_type": "stream",
     "text": [
      "\u001b[1mTRANSFORMATION & RESHAPING\u001b[0m \n",
      "\n"
     ]
    }
   ],
   "source": [
    "print(\"\\033[1mTRANSFORMATION & RESHAPING\\033[0m \\n\") "
   ]
  },
  {
   "cell_type": "code",
   "execution_count": 140,
   "id": "61b7178a",
   "metadata": {},
   "outputs": [
    {
     "name": "stdout",
     "output_type": "stream",
     "text": [
      "        date   product   region variable  value\n",
      "0 2023-01-01   Monitor  Central    sales   27.0\n",
      "1 2023-01-02  Keyboard     West    sales   38.0\n",
      "2 2023-01-03    Tablet    South    sales    7.0\n",
      "3 2023-01-04  Keyboard    North    sales    5.0\n",
      "4 2023-01-05  Keyboard    South    sales   43.0\n"
     ]
    }
   ],
   "source": [
    "# Melt the data for visualization\n",
    "melted = pd.melt(df.reset_index(), id_vars=['date', 'product', 'region'], \n",
    "                 value_vars=['sales', 'units', 'returns', 'revenue'])\n",
    "print(melted.head())"
   ]
  },
  {
   "cell_type": "code",
   "execution_count": 141,
   "id": "2322a189",
   "metadata": {},
   "outputs": [
    {
     "name": "stdout",
     "output_type": "stream",
     "text": [
      "\n",
      "Revenue by Product and Region:\n",
      "region    Central     East    North    South     West\n",
      "product                                              \n",
      "Keyboard   4105.5  2313.00  3278.20  2989.65  3498.10\n",
      "Laptop     3519.9  4044.00  4608.00  4254.60  3038.35\n",
      "Monitor    3387.5  4867.10  4128.40  2973.20  2570.40\n",
      "Phone      3307.0  2046.05  3628.60  4114.65  1697.55\n",
      "Tablet     2938.6  2378.70  2837.45  3861.25  2256.15\n"
     ]
    }
   ],
   "source": [
    "# Pivot table\n",
    "pivot = df.pivot_table(values='revenue', index='product', columns='region', aggfunc='sum')\n",
    "print(\"\\nRevenue by Product and Region:\")\n",
    "print(pivot)"
   ]
  },
  {
   "cell_type": "code",
   "execution_count": 142,
   "id": "78777691",
   "metadata": {},
   "outputs": [
    {
     "data": {
      "text/plain": [
       "\"pivot = df.pivot_table(\\n    values='sales',\\n    index='date',\\n    columns='region',\\n    aggfunc='sum'\\n)\\nprint(pivot.head())\""
      ]
     },
     "execution_count": 142,
     "metadata": {},
     "output_type": "execute_result"
    }
   ],
   "source": [
    "#Customer Satisfaction\n",
    "\"\"\"pivot = df.pivot_table(\n",
    "    values='customer_satisfaction',\n",
    "    index='product',\n",
    "    aggfunc='mean'\n",
    ")\n",
    "print(pivot)\"\"\"\n",
    "\n",
    "#Total Sales per Day by Region\n",
    "\"\"\"pivot = df.pivot_table(\n",
    "    values='sales',\n",
    "    index='date',\n",
    "    columns='region',\n",
    "    aggfunc='sum'\n",
    ")\n",
    "print(pivot.head())\"\"\""
   ]
  },
  {
   "cell_type": "code",
   "execution_count": 143,
   "id": "de324773",
   "metadata": {},
   "outputs": [
    {
     "name": "stdout",
     "output_type": "stream",
     "text": [
      "\u001b[1mGROUPING & AGGREGATION\u001b[0m \n",
      "\n"
     ]
    }
   ],
   "source": [
    "print(\"\\033[1mGROUPING & AGGREGATION\\033[0m \\n\") "
   ]
  },
  {
   "cell_type": "code",
   "execution_count": 144,
   "id": "39301ce3",
   "metadata": {},
   "outputs": [
    {
     "name": "stdout",
     "output_type": "stream",
     "text": [
      "    product  sales_sum  sales_mean  sales_max  units_sum  units_mean  \\\n",
      "0  Keyboard       3467       23.27         49        785        5.27   \n",
      "1    Laptop       4286       27.30         49        791        5.04   \n",
      "2   Monitor       3968       25.44         49        790        5.06   \n",
      "3     Phone       3352       24.29         49        676        4.90   \n",
      "4    Tablet       3113       23.76         49        649        4.95   \n",
      "\n",
      "   returns_sum  returns_mean  revenue_sum  \n",
      "0          287          1.93     16184.45  \n",
      "1          308          1.96     19464.85  \n",
      "2          337          2.16     17926.60  \n",
      "3          299          2.17     14793.85  \n",
      "4          254          1.94     14272.15  \n"
     ]
    }
   ],
   "source": [
    "## Group by product\n",
    "by_product = df.groupby('product').agg({\n",
    "    'sales': ['sum', 'mean', 'max'],\n",
    "    'units': ['sum', 'mean'],\n",
    "    'returns': ['sum', 'mean'],\n",
    "    'revenue': ['sum']\n",
    "})\n",
    "\n",
    "# Flatten columns\n",
    "by_product.columns = ['_'.join(col).strip() for col in by_product.columns.values]\n",
    "by_product.reset_index(inplace=True)\n",
    "\n",
    "# Display\n",
    "print(by_product.round(2))"
   ]
  },
  {
   "cell_type": "code",
   "execution_count": 145,
   "id": "fcaa14d6",
   "metadata": {},
   "outputs": [
    {
     "name": "stdout",
     "output_type": "stream",
     "text": [
      "    region  sales_sum  sales_max  units_sum  units_mean  returns_sum  \\\n",
      "0  Central       3791         49        785        5.13          285   \n",
      "1     East       3556         47        773        4.99          325   \n",
      "2    North       4099         49        769        4.99          314   \n",
      "3    South       3701         49        776        5.28          322   \n",
      "4     West       3039         49        588        4.82          239   \n",
      "\n",
      "   returns_mean  revenue_sum  \n",
      "0          1.86     17258.50  \n",
      "1          2.10     15648.85  \n",
      "2          2.04     18480.65  \n",
      "3          2.19     18193.35  \n",
      "4          1.96     13060.55  \n"
     ]
    }
   ],
   "source": [
    "## Group by product , groupby + agg summarizes key metrics by product\n",
    "by_product = df.groupby('region').agg({\n",
    "    'sales': ['sum', 'max'],\n",
    "    'units': ['sum', 'mean'],\n",
    "    'returns': ['sum', 'mean'],\n",
    "    'revenue': ['sum']\n",
    "})\n",
    "\n",
    "# Flatten columns\n",
    "by_product.columns = ['_'.join(col).strip() for col in by_product.columns.values]\n",
    "by_product.reset_index(inplace=True)\n",
    "\n",
    "# Display\n",
    "print(by_product.round(2))"
   ]
  },
  {
   "cell_type": "code",
   "execution_count": 146,
   "id": "3064272c",
   "metadata": {},
   "outputs": [
    {
     "name": "stdout",
     "output_type": "stream",
     "text": [
      "\n",
      "Monthly Sales Summary:\n",
      "            sales  units  returns  revenue\n",
      "date                                      \n",
      "2023-01-31    836    168       71  4005.75\n",
      "2023-02-28    737    128       49  2859.80\n",
      "2023-03-31    700    132       58  2530.00\n",
      "2023-04-30    696    152       71  3209.10\n",
      "2023-05-31    707    153       50  3343.95\n"
     ]
    }
   ],
   "source": [
    "# Time-based grouping\n",
    "monthly = df.resample('M').agg({\n",
    "    'sales': 'sum',\n",
    "    'units': 'sum',\n",
    "    'returns': 'sum',\n",
    "    'revenue': 'sum'\n",
    "})\n",
    "print(\"\\nMonthly Sales Summary:\")\n",
    "print(monthly.head())\n"
   ]
  },
  {
   "cell_type": "code",
   "execution_count": 147,
   "id": "c816a36e",
   "metadata": {},
   "outputs": [
    {
     "name": "stdout",
     "output_type": "stream",
     "text": [
      "\u001b[1mStatistics\u001b[0m \n",
      "\n"
     ]
    }
   ],
   "source": [
    "print(\"\\033[1mStatistics\\033[0m \\n\") "
   ]
  },
  {
   "cell_type": "code",
   "execution_count": 149,
   "id": "c1f8de71",
   "metadata": {},
   "outputs": [
    {
     "name": "stdout",
     "output_type": "stream",
     "text": [
      "Total Revenue: 82641.90\n",
      "Total Sales: 18186.00\n"
     ]
    }
   ],
   "source": [
    "print(f\"Total Revenue: {df['revenue'].sum():.2f}\")\n",
    "print(f\"Total Sales: {df['sales'].sum():.2f}\")"
   ]
  },
  {
   "cell_type": "code",
   "execution_count": 150,
   "id": "87a2cc49",
   "metadata": {},
   "outputs": [
    {
     "name": "stdout",
     "output_type": "stream",
     "text": [
      "Maximum Units Sold: 9.00\n"
     ]
    }
   ],
   "source": [
    "print(f\"Maximum Units Sold: {df['units'].max():.2f}\")"
   ]
  },
  {
   "cell_type": "code",
   "execution_count": 151,
   "id": "26e837b2",
   "metadata": {},
   "outputs": [
    {
     "name": "stdout",
     "output_type": "stream",
     "text": [
      "Sales Standard Deviation: 14.20\n",
      "Sales Correlation with Units: -0.01\n"
     ]
    }
   ],
   "source": [
    "print(f\"Sales Standard Deviation: {df['sales'].std():.2f}\")\n",
    "print(f\"Sales Correlation with Units: {df['sales'].corr(df['units']):.2f}\")\n"
   ]
  },
  {
   "cell_type": "code",
   "execution_count": 155,
   "id": "23ba92f0",
   "metadata": {},
   "outputs": [
    {
     "name": "stdout",
     "output_type": "stream",
     "text": [
      "Cumulative Sales (first 10 rows):\n",
      "             product  sales  cumulative_sales\n",
      "date                                         \n",
      "2023-01-01   Monitor     27                27\n",
      "2023-01-02  Keyboard     38                38\n",
      "2023-01-03    Tablet      7                 7\n",
      "2023-01-04  Keyboard      5                43\n",
      "2023-01-05  Keyboard     43                86\n",
      "2023-01-06     Phone     45                45\n",
      "2023-01-07    Tablet     31                38\n",
      "2023-01-08    Tablet     23                61\n",
      "2023-01-09    Tablet     42               103\n",
      "2023-01-10  Keyboard     10                96\n"
     ]
    }
   ],
   "source": [
    "# Print cumulative sales (for example, the first 10 rows)\n",
    "print(\"Cumulative Sales (first 10 rows):\")\n",
    "print(df[['product', 'sales', 'cumulative_sales']].head(10))\n"
   ]
  },
  {
   "cell_type": "code",
   "execution_count": 156,
   "id": "7604e8fd",
   "metadata": {},
   "outputs": [
    {
     "name": "stdout",
     "output_type": "stream",
     "text": [
      "\u001b[1mTime Series Analysis\u001b[0m \n",
      "\n"
     ]
    }
   ],
   "source": [
    "print(\"\\033[1mTime Series Analysis\\033[0m \\n\") "
   ]
  },
  {
   "cell_type": "code",
   "execution_count": 166,
   "id": "e256fc0b",
   "metadata": {},
   "outputs": [],
   "source": [
    "df = pd.DataFrame(data)\n",
    "df['date'] = pd.to_datetime(df['date'])\n"
   ]
  },
  {
   "cell_type": "code",
   "execution_count": 167,
   "id": "ff9136b4",
   "metadata": {},
   "outputs": [],
   "source": [
    "  #setting index as datetime\n",
    "df.set_index('date', inplace=True)"
   ]
  },
  {
   "cell_type": "code",
   "execution_count": 168,
   "id": "5ee4b41a",
   "metadata": {},
   "outputs": [
    {
     "name": "stdout",
     "output_type": "stream",
     "text": [
      "\n",
      "Weekly Sales:\n",
      "date\n",
      "2023-01-01     27\n",
      "2023-01-08    192\n",
      "2023-01-15    227\n",
      "2023-01-22    124\n",
      "2023-01-29    208\n",
      "             ... \n",
      "2024-12-08    136\n",
      "2024-12-15    156\n",
      "2024-12-22    137\n",
      "2024-12-29    144\n",
      "2025-01-05     40\n",
      "Freq: W-SUN, Name: sales, Length: 106, dtype: int64\n"
     ]
    }
   ],
   "source": [
    "weekly_sum = df['sales'].resample('W').sum()\n",
    "print(\"\\nWeekly Sales:\")\n",
    "print(weekly_sum)"
   ]
  },
  {
   "cell_type": "code",
   "execution_count": 171,
   "id": "1e7bdd1e",
   "metadata": {},
   "outputs": [
    {
     "name": "stdout",
     "output_type": "stream",
     "text": [
      "Roling average is =  date\n",
      "2023-01-01          NaN\n",
      "2023-01-02          NaN\n",
      "2023-01-03          NaN\n",
      "2023-01-04          NaN\n",
      "2023-01-05          NaN\n",
      "                ...    \n",
      "2024-12-27    12.571429\n",
      "2024-12-28    14.714286\n",
      "2024-12-29    20.571429\n",
      "2024-12-30    14.571429\n",
      "2024-12-31    19.571429\n",
      "Name: sales, Length: 731, dtype: float64\n",
      "Latest day to day change :\n",
      " date\n",
      "2024-12-27    -4.0\n",
      "2024-12-28    21.0\n",
      "2024-12-29    21.0\n",
      "2024-12-30   -42.0\n",
      "2024-12-31    36.0\n",
      "Name: sales_change, dtype: float64\n"
     ]
    }
   ],
   "source": [
    "# Rolling average (7-day)\n",
    "rolling_avg = df['sales'].rolling(window=7).mean()\n",
    "\n",
    "\n",
    "# Shift to calculate day-over-day change\n",
    "df['sales_previous_day'] = df['sales'].shift(1)\n",
    "df['sales_change'] = df['sales'] - df['sales_previous_day']\n",
    "\n",
    "print(\"Roling average is = \",rolling_avg)\n",
    "print(\"Latest day to day change :\\n\", df['sales_change'].tail())\n",
    "\n"
   ]
  },
  {
   "cell_type": "code",
   "execution_count": 173,
   "id": "f595eb86",
   "metadata": {},
   "outputs": [
    {
     "name": "stdout",
     "output_type": "stream",
     "text": [
      "7-Day Rolling Average (without NaNs):\n",
      " date\n",
      "2023-01-07    28.000000\n",
      "2023-01-08    27.428571\n",
      "2023-01-09    28.000000\n",
      "2023-01-10    28.428571\n",
      "2023-01-11    32.285714\n",
      "                ...    \n",
      "2024-12-27    12.571429\n",
      "2024-12-28    14.714286\n",
      "2024-12-29    20.571429\n",
      "2024-12-30    14.571429\n",
      "2024-12-31    19.571429\n",
      "Name: sales, Length: 725, dtype: float64\n"
     ]
    }
   ],
   "source": [
    "# Print rolling average without NaN values\n",
    "print(\"7-Day Rolling Average (without NaNs):\\n\", rolling_avg.dropna())\n"
   ]
  },
  {
   "cell_type": "code",
   "execution_count": 177,
   "id": "b6ba7ebb",
   "metadata": {},
   "outputs": [
    {
     "name": "stdout",
     "output_type": "stream",
     "text": [
      "Sales change to today from yesterday :\n",
      " date\n",
      "2023-01-01     NaN\n",
      "2023-01-02    11.0\n",
      "2023-01-03   -31.0\n",
      "2023-01-04    -2.0\n",
      "2023-01-05    38.0\n",
      "              ... \n",
      "2024-12-27    -4.0\n",
      "2024-12-28    21.0\n",
      "2024-12-29    21.0\n",
      "2024-12-30   -42.0\n",
      "2024-12-31    36.0\n",
      "Name: sales_change, Length: 731, dtype: float64\n"
     ]
    }
   ],
   "source": [
    "# Shift to calculate day-over-day change\n",
    "df['sales_previous_day'] = df['sales'].shift(1)\n",
    "df['sales_change'] = df['sales'] - df['sales_previous_day']\n",
    "\n",
    "print(\"Sales change to today from yesterday :\\n\",df['sales_change'])"
   ]
  },
  {
   "cell_type": "code",
   "execution_count": 178,
   "id": "e238fed0",
   "metadata": {},
   "outputs": [
    {
     "name": "stdout",
     "output_type": "stream",
     "text": [
      "\u001b[1mCombining and Merging Data\u001b[0m \n",
      "\n"
     ]
    }
   ],
   "source": [
    "print(\"\\033[1mCombining and Merging Data\\033[0m \\n\") "
   ]
  },
  {
   "cell_type": "code",
   "execution_count": 179,
   "id": "5c935487",
   "metadata": {},
   "outputs": [
    {
     "name": "stdout",
     "output_type": "stream",
     "text": [
      "        date   product     category  sales  cost\n",
      "0 2023-01-01   Monitor    Computing     27   200\n",
      "1 2023-01-02  Keyboard  Accessories     38    50\n",
      "2 2023-01-03    Tablet       Mobile      7   300\n",
      "3 2023-01-04  Keyboard  Accessories      5    50\n",
      "4 2023-01-05  Keyboard  Accessories     43    50\n"
     ]
    }
   ],
   "source": [
    "# Create a separate dataframe with product information\n",
    "product_info = pd.DataFrame({\n",
    "    'product': ['Laptop', 'Phone', 'Tablet', 'Monitor', 'Keyboard'],\n",
    "    'category': ['Computing', 'Mobile', 'Headphone', 'Computing', 'Accessories'],\n",
    "    'cost': [800, 500, 300, 200, 50]\n",
    "})\n",
    "# Merge with main dataframe\n",
    "df_with_categories = df.reset_index().merge(product_info, on='product', how='left')\n",
    "print(df_with_categories[['date', 'product', 'category', 'sales', 'cost']].head())\n"
   ]
  },
  {
   "cell_type": "code",
   "execution_count": 183,
   "id": "ab2710a2",
   "metadata": {},
   "outputs": [
    {
     "name": "stdout",
     "output_type": "stream",
     "text": [
      "\u001b[1mVisuaization\u001b[0m \n",
      "\n"
     ]
    }
   ],
   "source": [
    "print(\"\\033[1mVisuaization\\033[0m \\n\") \n",
    "import matplotlib.pyplot as plt"
   ]
  },
  {
   "cell_type": "code",
   "execution_count": 188,
   "id": "1285be05",
   "metadata": {},
   "outputs": [],
   "source": [
    "df['revenue'] = df['sales'] * df['units'] * (1 - df['discount'])\n"
   ]
  },
  {
   "cell_type": "code",
   "execution_count": 185,
   "id": "35ff2526",
   "metadata": {},
   "outputs": [],
   "source": [
    "monthly = df.resample('M').sum()  # Sum by month\n",
    "monthly['revenue'] = monthly['sales'] * monthly['units'] * (1 - monthly['discount'])"
   ]
  },
  {
   "cell_type": "code",
   "execution_count": 186,
   "id": "793149b1",
   "metadata": {},
   "outputs": [
    {
     "data": {
      "image/png": "[encoded data removed]",
      "text/plain": [
       "<Figure size 864x432 with 1 Axes>"
      ]
     },
     "metadata": {
      "needs_background": "light"
     },
     "output_type": "display_data"
    },
    {
     "ename": "KeyError",
     "evalue": "'Column not found: revenue'",
     "output_type": "error",
     "traceback": [
      "\u001b[0;31m---------------------------------------------------------------------------\u001b[0m",
      "\u001b[0;31mKeyError\u001b[0m                                  Traceback (most recent call last)",
      "Input \u001b[0;32mIn [186]\u001b[0m, in \u001b[0;36m<cell line: 9>\u001b[0;34m()\u001b[0m\n\u001b[1;32m      7\u001b[0m \u001b[38;5;66;03m# Boxplot of sales by product\u001b[39;00m\n\u001b[1;32m      8\u001b[0m plt\u001b[38;5;241m.\u001b[39mfigure(figsize\u001b[38;5;241m=\u001b[39m(\u001b[38;5;241m10\u001b[39m, \u001b[38;5;241m6\u001b[39m))\n\u001b[0;32m----> 9\u001b[0m \u001b[43mdf\u001b[49m\u001b[38;5;241;43m.\u001b[39;49m\u001b[43mboxplot\u001b[49m\u001b[43m(\u001b[49m\u001b[43mcolumn\u001b[49m\u001b[38;5;241;43m=\u001b[39;49m\u001b[38;5;124;43m'\u001b[39;49m\u001b[38;5;124;43mrevenue\u001b[39;49m\u001b[38;5;124;43m'\u001b[39;49m\u001b[43m,\u001b[49m\u001b[43m \u001b[49m\u001b[43mby\u001b[49m\u001b[38;5;241;43m=\u001b[39;49m\u001b[38;5;124;43m'\u001b[39;49m\u001b[38;5;124;43mproduct\u001b[39;49m\u001b[38;5;124;43m'\u001b[39;49m\u001b[43m)\u001b[49m\n\u001b[1;32m     10\u001b[0m plt\u001b[38;5;241m.\u001b[39mtitle(\u001b[38;5;124m'\u001b[39m\u001b[38;5;124mRevenue Distribution by Product\u001b[39m\u001b[38;5;124m'\u001b[39m)\n\u001b[1;32m     11\u001b[0m plt\u001b[38;5;241m.\u001b[39msuptitle(\u001b[38;5;124m'\u001b[39m\u001b[38;5;124m'\u001b[39m)  \u001b[38;5;66;03m# Remove default title\u001b[39;00m\n",
      "File \u001b[0;32m~/opt/anaconda3/lib/python3.9/site-packages/pandas/plotting/_core.py:511\u001b[0m, in \u001b[0;36mboxplot_frame\u001b[0;34m(self, column, by, ax, fontsize, rot, grid, figsize, layout, return_type, backend, **kwargs)\u001b[0m\n\u001b[1;32m    494\u001b[0m \u001b[38;5;129m@Substitution\u001b[39m(backend\u001b[38;5;241m=\u001b[39m_backend_doc)\n\u001b[1;32m    495\u001b[0m \u001b[38;5;129m@Appender\u001b[39m(_boxplot_doc)\n\u001b[1;32m    496\u001b[0m \u001b[38;5;28;01mdef\u001b[39;00m \u001b[38;5;21mboxplot_frame\u001b[39m(\n\u001b[0;32m   (...)\u001b[0m\n\u001b[1;32m    508\u001b[0m     \u001b[38;5;241m*\u001b[39m\u001b[38;5;241m*\u001b[39mkwargs,\n\u001b[1;32m    509\u001b[0m ):\n\u001b[1;32m    510\u001b[0m     plot_backend \u001b[38;5;241m=\u001b[39m _get_plot_backend(backend)\n\u001b[0;32m--> 511\u001b[0m     \u001b[38;5;28;01mreturn\u001b[39;00m \u001b[43mplot_backend\u001b[49m\u001b[38;5;241;43m.\u001b[39;49m\u001b[43mboxplot_frame\u001b[49m\u001b[43m(\u001b[49m\n\u001b[1;32m    512\u001b[0m \u001b[43m        \u001b[49m\u001b[38;5;28;43mself\u001b[39;49m\u001b[43m,\u001b[49m\n\u001b[1;32m    513\u001b[0m \u001b[43m        \u001b[49m\u001b[43mcolumn\u001b[49m\u001b[38;5;241;43m=\u001b[39;49m\u001b[43mcolumn\u001b[49m\u001b[43m,\u001b[49m\n\u001b[1;32m    514\u001b[0m \u001b[43m        \u001b[49m\u001b[43mby\u001b[49m\u001b[38;5;241;43m=\u001b[39;49m\u001b[43mby\u001b[49m\u001b[43m,\u001b[49m\n\u001b[1;32m    515\u001b[0m \u001b[43m        \u001b[49m\u001b[43max\u001b[49m\u001b[38;5;241;43m=\u001b[39;49m\u001b[43max\u001b[49m\u001b[43m,\u001b[49m\n\u001b[1;32m    516\u001b[0m \u001b[43m        \u001b[49m\u001b[43mfontsize\u001b[49m\u001b[38;5;241;43m=\u001b[39;49m\u001b[43mfontsize\u001b[49m\u001b[43m,\u001b[49m\n\u001b[1;32m    517\u001b[0m \u001b[43m        \u001b[49m\u001b[43mrot\u001b[49m\u001b[38;5;241;43m=\u001b[39;49m\u001b[43mrot\u001b[49m\u001b[43m,\u001b[49m\n\u001b[1;32m    518\u001b[0m \u001b[43m        \u001b[49m\u001b[43mgrid\u001b[49m\u001b[38;5;241;43m=\u001b[39;49m\u001b[43mgrid\u001b[49m\u001b[43m,\u001b[49m\n\u001b[1;32m    519\u001b[0m \u001b[43m        \u001b[49m\u001b[43mfigsize\u001b[49m\u001b[38;5;241;43m=\u001b[39;49m\u001b[43mfigsize\u001b[49m\u001b[43m,\u001b[49m\n\u001b[1;32m    520\u001b[0m \u001b[43m        \u001b[49m\u001b[43mlayout\u001b[49m\u001b[38;5;241;43m=\u001b[39;49m\u001b[43mlayout\u001b[49m\u001b[43m,\u001b[49m\n\u001b[1;32m    521\u001b[0m \u001b[43m        \u001b[49m\u001b[43mreturn_type\u001b[49m\u001b[38;5;241;43m=\u001b[39;49m\u001b[43mreturn_type\u001b[49m\u001b[43m,\u001b[49m\n\u001b[1;32m    522\u001b[0m \u001b[43m        \u001b[49m\u001b[38;5;241;43m*\u001b[39;49m\u001b[38;5;241;43m*\u001b[39;49m\u001b[43mkwargs\u001b[49m\u001b[43m,\u001b[49m\n\u001b[1;32m    523\u001b[0m \u001b[43m    \u001b[49m\u001b[43m)\u001b[49m\n",
      "File \u001b[0;32m~/opt/anaconda3/lib/python3.9/site-packages/pandas/plotting/_matplotlib/boxplot.py:425\u001b[0m, in \u001b[0;36mboxplot_frame\u001b[0;34m(self, column, by, ax, fontsize, rot, grid, figsize, layout, return_type, **kwds)\u001b[0m\n\u001b[1;32m    410\u001b[0m \u001b[38;5;28;01mdef\u001b[39;00m \u001b[38;5;21mboxplot_frame\u001b[39m(\n\u001b[1;32m    411\u001b[0m     \u001b[38;5;28mself\u001b[39m,\n\u001b[1;32m    412\u001b[0m     column\u001b[38;5;241m=\u001b[39m\u001b[38;5;28;01mNone\u001b[39;00m,\n\u001b[0;32m   (...)\u001b[0m\n\u001b[1;32m    421\u001b[0m     \u001b[38;5;241m*\u001b[39m\u001b[38;5;241m*\u001b[39mkwds,\n\u001b[1;32m    422\u001b[0m ):\n\u001b[1;32m    423\u001b[0m     \u001b[38;5;28;01mimport\u001b[39;00m \u001b[38;5;21;01mmatplotlib\u001b[39;00m\u001b[38;5;21;01m.\u001b[39;00m\u001b[38;5;21;01mpyplot\u001b[39;00m \u001b[38;5;28;01mas\u001b[39;00m \u001b[38;5;21;01mplt\u001b[39;00m\n\u001b[0;32m--> 425\u001b[0m     ax \u001b[38;5;241m=\u001b[39m \u001b[43mboxplot\u001b[49m\u001b[43m(\u001b[49m\n\u001b[1;32m    426\u001b[0m \u001b[43m        \u001b[49m\u001b[38;5;28;43mself\u001b[39;49m\u001b[43m,\u001b[49m\n\u001b[1;32m    427\u001b[0m \u001b[43m        \u001b[49m\u001b[43mcolumn\u001b[49m\u001b[38;5;241;43m=\u001b[39;49m\u001b[43mcolumn\u001b[49m\u001b[43m,\u001b[49m\n\u001b[1;32m    428\u001b[0m \u001b[43m        \u001b[49m\u001b[43mby\u001b[49m\u001b[38;5;241;43m=\u001b[39;49m\u001b[43mby\u001b[49m\u001b[43m,\u001b[49m\n\u001b[1;32m    429\u001b[0m \u001b[43m        \u001b[49m\u001b[43max\u001b[49m\u001b[38;5;241;43m=\u001b[39;49m\u001b[43max\u001b[49m\u001b[43m,\u001b[49m\n\u001b[1;32m    430\u001b[0m \u001b[43m        \u001b[49m\u001b[43mfontsize\u001b[49m\u001b[38;5;241;43m=\u001b[39;49m\u001b[43mfontsize\u001b[49m\u001b[43m,\u001b[49m\n\u001b[1;32m    431\u001b[0m \u001b[43m        \u001b[49m\u001b[43mgrid\u001b[49m\u001b[38;5;241;43m=\u001b[39;49m\u001b[43mgrid\u001b[49m\u001b[43m,\u001b[49m\n\u001b[1;32m    432\u001b[0m \u001b[43m        \u001b[49m\u001b[43mrot\u001b[49m\u001b[38;5;241;43m=\u001b[39;49m\u001b[43mrot\u001b[49m\u001b[43m,\u001b[49m\n\u001b[1;32m    433\u001b[0m \u001b[43m        \u001b[49m\u001b[43mfigsize\u001b[49m\u001b[38;5;241;43m=\u001b[39;49m\u001b[43mfigsize\u001b[49m\u001b[43m,\u001b[49m\n\u001b[1;32m    434\u001b[0m \u001b[43m        \u001b[49m\u001b[43mlayout\u001b[49m\u001b[38;5;241;43m=\u001b[39;49m\u001b[43mlayout\u001b[49m\u001b[43m,\u001b[49m\n\u001b[1;32m    435\u001b[0m \u001b[43m        \u001b[49m\u001b[43mreturn_type\u001b[49m\u001b[38;5;241;43m=\u001b[39;49m\u001b[43mreturn_type\u001b[49m\u001b[43m,\u001b[49m\n\u001b[1;32m    436\u001b[0m \u001b[43m        \u001b[49m\u001b[38;5;241;43m*\u001b[39;49m\u001b[38;5;241;43m*\u001b[39;49m\u001b[43mkwds\u001b[49m\u001b[43m,\u001b[49m\n\u001b[1;32m    437\u001b[0m \u001b[43m    \u001b[49m\u001b[43m)\u001b[49m\n\u001b[1;32m    438\u001b[0m     plt\u001b[38;5;241m.\u001b[39mdraw_if_interactive()\n\u001b[1;32m    439\u001b[0m     \u001b[38;5;28;01mreturn\u001b[39;00m ax\n",
      "File \u001b[0;32m~/opt/anaconda3/lib/python3.9/site-packages/pandas/plotting/_matplotlib/boxplot.py:372\u001b[0m, in \u001b[0;36mboxplot\u001b[0;34m(data, column, by, ax, fontsize, rot, grid, figsize, layout, return_type, **kwds)\u001b[0m\n\u001b[1;32m    367\u001b[0m         columns \u001b[38;5;241m=\u001b[39m [column]\n\u001b[1;32m    369\u001b[0m \u001b[38;5;28;01mif\u001b[39;00m by \u001b[38;5;129;01mis\u001b[39;00m \u001b[38;5;129;01mnot\u001b[39;00m \u001b[38;5;28;01mNone\u001b[39;00m:\n\u001b[1;32m    370\u001b[0m     \u001b[38;5;66;03m# Prefer array return type for 2-D plots to match the subplot layout\u001b[39;00m\n\u001b[1;32m    371\u001b[0m     \u001b[38;5;66;03m# https://github.com/pandas-dev/pandas/pull/12216#issuecomment-241175580\u001b[39;00m\n\u001b[0;32m--> 372\u001b[0m     result \u001b[38;5;241m=\u001b[39m \u001b[43m_grouped_plot_by_column\u001b[49m\u001b[43m(\u001b[49m\n\u001b[1;32m    373\u001b[0m \u001b[43m        \u001b[49m\u001b[43mplot_group\u001b[49m\u001b[43m,\u001b[49m\n\u001b[1;32m    374\u001b[0m \u001b[43m        \u001b[49m\u001b[43mdata\u001b[49m\u001b[43m,\u001b[49m\n\u001b[1;32m    375\u001b[0m \u001b[43m        \u001b[49m\u001b[43mcolumns\u001b[49m\u001b[38;5;241;43m=\u001b[39;49m\u001b[43mcolumns\u001b[49m\u001b[43m,\u001b[49m\n\u001b[1;32m    376\u001b[0m \u001b[43m        \u001b[49m\u001b[43mby\u001b[49m\u001b[38;5;241;43m=\u001b[39;49m\u001b[43mby\u001b[49m\u001b[43m,\u001b[49m\n\u001b[1;32m    377\u001b[0m \u001b[43m        \u001b[49m\u001b[43mgrid\u001b[49m\u001b[38;5;241;43m=\u001b[39;49m\u001b[43mgrid\u001b[49m\u001b[43m,\u001b[49m\n\u001b[1;32m    378\u001b[0m \u001b[43m        \u001b[49m\u001b[43mfigsize\u001b[49m\u001b[38;5;241;43m=\u001b[39;49m\u001b[43mfigsize\u001b[49m\u001b[43m,\u001b[49m\n\u001b[1;32m    379\u001b[0m \u001b[43m        \u001b[49m\u001b[43max\u001b[49m\u001b[38;5;241;43m=\u001b[39;49m\u001b[43max\u001b[49m\u001b[43m,\u001b[49m\n\u001b[1;32m    380\u001b[0m \u001b[43m        \u001b[49m\u001b[43mlayout\u001b[49m\u001b[38;5;241;43m=\u001b[39;49m\u001b[43mlayout\u001b[49m\u001b[43m,\u001b[49m\n\u001b[1;32m    381\u001b[0m \u001b[43m        \u001b[49m\u001b[43mreturn_type\u001b[49m\u001b[38;5;241;43m=\u001b[39;49m\u001b[43mreturn_type\u001b[49m\u001b[43m,\u001b[49m\n\u001b[1;32m    382\u001b[0m \u001b[43m    \u001b[49m\u001b[43m)\u001b[49m\n\u001b[1;32m    383\u001b[0m \u001b[38;5;28;01melse\u001b[39;00m:\n\u001b[1;32m    384\u001b[0m     \u001b[38;5;28;01mif\u001b[39;00m return_type \u001b[38;5;129;01mis\u001b[39;00m \u001b[38;5;28;01mNone\u001b[39;00m:\n",
      "File \u001b[0;32m~/opt/anaconda3/lib/python3.9/site-packages/pandas/plotting/_matplotlib/boxplot.py:249\u001b[0m, in \u001b[0;36m_grouped_plot_by_column\u001b[0;34m(plotf, data, columns, by, numeric_only, grid, figsize, ax, layout, return_type, **kwargs)\u001b[0m\n\u001b[1;32m    247\u001b[0m \u001b[38;5;28;01mfor\u001b[39;00m i, col \u001b[38;5;129;01min\u001b[39;00m \u001b[38;5;28menumerate\u001b[39m(columns):\n\u001b[1;32m    248\u001b[0m     ax \u001b[38;5;241m=\u001b[39m _axes[i]\n\u001b[0;32m--> 249\u001b[0m     gp_col \u001b[38;5;241m=\u001b[39m \u001b[43mgrouped\u001b[49m\u001b[43m[\u001b[49m\u001b[43mcol\u001b[49m\u001b[43m]\u001b[49m\n\u001b[1;32m    250\u001b[0m     keys, values \u001b[38;5;241m=\u001b[39m \u001b[38;5;28mzip\u001b[39m(\u001b[38;5;241m*\u001b[39mgp_col)\n\u001b[1;32m    251\u001b[0m     re_plotf \u001b[38;5;241m=\u001b[39m plotf(keys, values, ax, \u001b[38;5;241m*\u001b[39m\u001b[38;5;241m*\u001b[39mkwargs)\n",
      "File \u001b[0;32m~/opt/anaconda3/lib/python3.9/site-packages/pandas/core/groupby/generic.py:1338\u001b[0m, in \u001b[0;36mDataFrameGroupBy.__getitem__\u001b[0;34m(self, key)\u001b[0m\n\u001b[1;32m   1329\u001b[0m \u001b[38;5;28;01mif\u001b[39;00m \u001b[38;5;28misinstance\u001b[39m(key, \u001b[38;5;28mtuple\u001b[39m) \u001b[38;5;129;01mand\u001b[39;00m \u001b[38;5;28mlen\u001b[39m(key) \u001b[38;5;241m>\u001b[39m \u001b[38;5;241m1\u001b[39m:\n\u001b[1;32m   1330\u001b[0m     \u001b[38;5;66;03m# if len == 1, then it becomes a SeriesGroupBy and this is actually\u001b[39;00m\n\u001b[1;32m   1331\u001b[0m     \u001b[38;5;66;03m# valid syntax, so don't raise warning\u001b[39;00m\n\u001b[1;32m   1332\u001b[0m     warnings\u001b[38;5;241m.\u001b[39mwarn(\n\u001b[1;32m   1333\u001b[0m         \u001b[38;5;124m\"\u001b[39m\u001b[38;5;124mIndexing with multiple keys (implicitly converted to a tuple \u001b[39m\u001b[38;5;124m\"\u001b[39m\n\u001b[1;32m   1334\u001b[0m         \u001b[38;5;124m\"\u001b[39m\u001b[38;5;124mof keys) will be deprecated, use a list instead.\u001b[39m\u001b[38;5;124m\"\u001b[39m,\n\u001b[1;32m   1335\u001b[0m         \u001b[38;5;167;01mFutureWarning\u001b[39;00m,\n\u001b[1;32m   1336\u001b[0m         stacklevel\u001b[38;5;241m=\u001b[39mfind_stack_level(),\n\u001b[1;32m   1337\u001b[0m     )\n\u001b[0;32m-> 1338\u001b[0m \u001b[38;5;28;01mreturn\u001b[39;00m \u001b[38;5;28;43msuper\u001b[39;49m\u001b[43m(\u001b[49m\u001b[43m)\u001b[49m\u001b[38;5;241;43m.\u001b[39;49m\u001b[38;5;21;43m__getitem__\u001b[39;49m\u001b[43m(\u001b[49m\u001b[43mkey\u001b[49m\u001b[43m)\u001b[49m\n",
      "File \u001b[0;32m~/opt/anaconda3/lib/python3.9/site-packages/pandas/core/base.py:250\u001b[0m, in \u001b[0;36mSelectionMixin.__getitem__\u001b[0;34m(self, key)\u001b[0m\n\u001b[1;32m    248\u001b[0m \u001b[38;5;28;01melse\u001b[39;00m:\n\u001b[1;32m    249\u001b[0m     \u001b[38;5;28;01mif\u001b[39;00m key \u001b[38;5;129;01mnot\u001b[39;00m \u001b[38;5;129;01min\u001b[39;00m \u001b[38;5;28mself\u001b[39m\u001b[38;5;241m.\u001b[39mobj:\n\u001b[0;32m--> 250\u001b[0m         \u001b[38;5;28;01mraise\u001b[39;00m \u001b[38;5;167;01mKeyError\u001b[39;00m(\u001b[38;5;124mf\u001b[39m\u001b[38;5;124m\"\u001b[39m\u001b[38;5;124mColumn not found: \u001b[39m\u001b[38;5;132;01m{\u001b[39;00mkey\u001b[38;5;132;01m}\u001b[39;00m\u001b[38;5;124m\"\u001b[39m)\n\u001b[1;32m    251\u001b[0m     subset \u001b[38;5;241m=\u001b[39m \u001b[38;5;28mself\u001b[39m\u001b[38;5;241m.\u001b[39mobj[key]\n\u001b[1;32m    252\u001b[0m     ndim \u001b[38;5;241m=\u001b[39m subset\u001b[38;5;241m.\u001b[39mndim\n",
      "\u001b[0;31mKeyError\u001b[0m: 'Column not found: revenue'"
     ]
    },
    {
     "data": {
      "text/plain": [
       "<Figure size 720x432 with 0 Axes>"
      ]
     },
     "metadata": {},
     "output_type": "display_data"
    },
    {
     "data": {
      "image/png": "[encoded data removed]",
      "text/plain": [
       "<Figure size 432x288 with 1 Axes>"
      ]
     },
     "metadata": {
      "needs_background": "light"
     },
     "output_type": "display_data"
    }
   ],
   "source": [
    "# Plot monthly revenue\n",
    "plt.figure(figsize=(12, 6))\n",
    "monthly['revenue'].plot(title='Monthly Revenue')\n",
    "plt.grid(True)\n",
    "plt.show()\n",
    "\n",
    "# Boxplot of sales by product\n",
    "plt.figure(figsize=(10, 6))\n",
    "df.boxplot(column='revenue', by='product')\n",
    "plt.title('Revenue Distribution by Product')\n",
    "plt.suptitle('')  # Remove default title\n",
    "plt.tight_layout()\n",
    "plt.show()\n"
   ]
  },
  {
   "cell_type": "code",
   "execution_count": 189,
   "id": "2f04c9d4",
   "metadata": {},
   "outputs": [
    {
     "name": "stdout",
     "output_type": "stream",
     "text": [
      "Number of high revenue laptop sales in West region: 12\n",
      "First date in dataset: 2023-01-01 00:00:00\n",
      "Last date in dataset: 2024-12-31 00:00:00\n",
      "\n",
      "Top 5 Sales Days:\n",
      "           product region  sales  revenue\n",
      "date                                     \n",
      "2024-06-21  Tablet  North     48    410.4\n",
      "2024-11-26   Phone   West     45    405.0\n",
      "2023-11-27  Tablet  North     44    396.0\n",
      "2024-01-26  Laptop  North     44    396.0\n",
      "2024-09-02  Laptop  North     42    378.0\n",
      "\n",
      "Percentage of good/excellent reviews: 0.00%\n"
     ]
    }
   ],
   "source": [
    "# Filter for laptops in West region with high revenue\n",
    "laptop_west = df.query(\"product == 'Laptop' and region == 'West' and revenue > 100\")\n",
    "print(f\"Number of high revenue laptop sales in West region: {len(laptop_west)}\")\n",
    "\n",
    "# Get first and last valid index\n",
    "print(f\"First date in dataset: {df.first_valid_index()}\")\n",
    "print(f\"Last date in dataset: {df.last_valid_index()}\")\n",
    "\n",
    "# Select top performers\n",
    "top_sales_days = df.nlargest(5, 'revenue')\n",
    "print(\"\\nTop 5 Sales Days:\")\n",
    "print(top_sales_days[['product', 'region', 'sales', 'revenue']])\n",
    "\n",
    "# Advanced filtering with boolean masks\n",
    "good_reviews = df[df['customer_satisfaction'].isin(['Good', 'Excellent'])]\n",
    "print(f\"\\nPercentage of good/excellent reviews: {len(good_reviews) / len(df) * 100:.2f}%\")\n"
   ]
  },
  {
   "cell_type": "code",
   "execution_count": 190,
   "id": "b1ba4007",
   "metadata": {},
   "outputs": [
    {
     "name": "stdout",
     "output_type": "stream",
     "text": [
      "\u001b[1mThank You\u001b[0m \n",
      "\n"
     ]
    }
   ],
   "source": [
    "print(\"\\033[1mThank You\\033[0m \\n\") "
   ]
  },
  {
   "cell_type": "code",
   "execution_count": null,
   "id": "fb3c9a7c",
   "metadata": {},
   "outputs": [],
   "source": []
  }
 ],
 "metadata": {
  "kernelspec": {
   "display_name": "Python 3 (ipykernel)",
   "language": "python",
   "name": "python3"
  },
  "language_info": {
   "codemirror_mode": {
    "name": "ipython",
    "version": 3
   },
   "file_extension": ".py",
   "mimetype": "text/x-python",
   "name": "python",
   "nbconvert_exporter": "python",
   "pygments_lexer": "ipython3",
   "version": "3.9.12"
  }
 },
 "nbformat": 4,
 "nbformat_minor": 5
}
